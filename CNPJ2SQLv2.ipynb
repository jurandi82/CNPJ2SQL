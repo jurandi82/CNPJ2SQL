{
 "cells": [
  {
   "cell_type": "markdown",
   "metadata": {
    "tags": []
   },
   "source": [
    "# Download"
   ]
  },
  {
   "cell_type": "code",
   "execution_count": 2,
   "metadata": {},
   "outputs": [],
   "source": [
    "import requests\n",
    "import re\n",
    "from concurrent.futures import ThreadPoolExecutor, as_completed\n",
    "from tqdm.notebook import tqdm, trange\n",
    "from bs4 import BeautifulSoup as bs\n",
    "import os\n",
    "import sqlalchemy as sa\n",
    "import zipfile\n",
    "import dask.dataframe as dd"
   ]
  },
  {
   "cell_type": "code",
   "execution_count": 3,
   "metadata": {},
   "outputs": [],
   "source": [
    "# configuacoes\n",
    "urlbase = \"https://dadosabertos.rfb.gov.br/CNPJ/\"\n",
    "dirpath= \"downloads/\" #a path precisa existir\n",
    "uri_sqlite ='sqlite:///base_receitaYYYYMMDD.db'"
   ]
  },
  {
   "cell_type": "code",
   "execution_count": 4,
   "metadata": {},
   "outputs": [],
   "source": [
    "def mapp(fn,data, workers=8):\n",
    "  tasks=[]\n",
    "  out = []\n",
    "  with ThreadPoolExecutor(max_workers=workers) as tex:\n",
    "    tasks=[tex.submit(fn,i) for i in data]\n",
    "  for task in as_completed(tasks):\n",
    "    out.append(task.result())\n",
    "  return out"
   ]
  },
  {
   "cell_type": "code",
   "execution_count": 5,
   "metadata": {},
   "outputs": [],
   "source": [
    "def downloader(url):\n",
    "    try:\n",
    "        r = requests.get(url, stream=True)\n",
    "        total = int(r.headers.get('content-length', 0))\n",
    "        if \"Content-Disposition\" in r.headers.keys():\n",
    "            fname = re.findall(\"filename=(.+)\", r.headers[\"Content-Disposition\"])[0]\n",
    "        else:\n",
    "            fname = url.split(\"/\")[-1]\n",
    "        with open(dirpath+fname, 'wb') as file, tqdm(desc=fname, total=total, unit='iB', unit_scale=True, unit_divisor=1024) as bar:\n",
    "            for data in r.iter_content(chunk_size=1024):\n",
    "                size = file.write(data)\n",
    "                bar.update(size)\n",
    "    except Exception as inst:\n",
    "        print(inst)          # __str__ allows args to be printed directly,    \n",
    "    finally:\n",
    "        return [str(r.status_code), url]"
   ]
  },
  {
   "cell_type": "code",
   "execution_count": 6,
   "metadata": {},
   "outputs": [],
   "source": [
    "filelist = list( filter( lambda s: s.find(\".\")>0,\n",
    "                        [tag.attrs['href'] for tag in bs(requests.get(urlbase).content).find_all('a')]))"
   ]
  },
  {
   "cell_type": "code",
   "execution_count": 7,
   "metadata": {},
   "outputs": [],
   "source": [
    "urllist = [urlbase+f for f in filelist]"
   ]
  },
  {
   "cell_type": "code",
   "execution_count": null,
   "metadata": {},
   "outputs": [],
   "source": [
    "res = mapp(downloader,urllist) if input(\"Tem certeza? S/N\").upper() == \"S\" else \"Cancelado\""
   ]
  },
  {
   "cell_type": "code",
   "execution_count": 43,
   "metadata": {},
   "outputs": [],
   "source": [
    "# se der erro em algum basta usar o downloader\n",
    "# downloader(urllist[0])"
   ]
  },
  {
   "cell_type": "markdown",
   "metadata": {
    "tags": []
   },
   "source": [
    "# Upload"
   ]
  },
  {
   "cell_type": "markdown",
   "metadata": {
    "tags": []
   },
   "source": [
    "## Funções"
   ]
  },
  {
   "cell_type": "code",
   "execution_count": 8,
   "metadata": {},
   "outputs": [],
   "source": [
    "dirlist= os.listdir(dirpath)\n",
    "engine = sa.create_engine(uri_sqlite)\n",
    "engine.connect().close() #test"
   ]
  },
  {
   "cell_type": "code",
   "execution_count": 9,
   "metadata": {},
   "outputs": [],
   "source": [
    "def upload(local, table, dcol):\n",
    "    colunas=list(dcol.keys())\n",
    "    with engine.connect() as c:\n",
    "        c.execute(\"DROP TABLE IF EXISTS \\\"\" + table + \"\\\"\")\n",
    "        block='default' if local.find('.zip') < 0 else None\n",
    "        df = dd.read_csv(local, header=None, encoding='latin1', sep=\";\", decimal=\",\", names=colunas, dtype=dcol, blocksize=block)\n",
    "    for n in trange(df.npartitions, desc=table):\n",
    "        df.get_partition(n).compute().to_sql( name=table, con=engine, if_exists= 'append', chunksize=1000, index=False)\n",
    "    with engine.connect() as c:\n",
    "         c.execute(\"CREATE INDEX IF NOT EXISTS idx_\" + table + \" ON \\\"\" + table + \"\\\" (\\\"\" + df.columns[0] + \"\\\")\")"
   ]
  },
  {
   "cell_type": "code",
   "execution_count": 13,
   "metadata": {},
   "outputs": [],
   "source": [
    "def extract(flist,filtro):\n",
    "    filenames=[]\n",
    "    files=list(filter(lambda x: not x.find(filtro), dirlist))\n",
    "    for filename in files:\n",
    "            zip=zipfile.ZipFile(dirpath+filename)\n",
    "            filenames.append(dirpath+zip.filelist[0].filename)\n",
    "            zip.extractall(path=dirpath)\n",
    "    return filenames\n",
    "\n",
    "def remove(flist):\n",
    "    for f in flist:\n",
    "            os.remove(f)"
   ]
  },
  {
   "cell_type": "markdown",
   "metadata": {
    "tags": []
   },
   "source": [
    "## Começo do Upload"
   ]
  },
  {
   "cell_type": "code",
   "execution_count": 53,
   "metadata": {},
   "outputs": [
    {
     "data": {
      "application/vnd.jupyter.widget-view+json": {
       "model_id": "6f0ff69b93f5477490d3e6219b97b222",
       "version_major": 2,
       "version_minor": 0
      },
      "text/plain": [
       "MUNICIPIO:   0%|          | 0/1 [00:00<?, ?it/s]"
      ]
     },
     "metadata": {},
     "output_type": "display_data"
    }
   ],
   "source": [
    "local=dirpath+'Municipios.zip'\n",
    "dcol = {\"CD_MUNICIPIO\": \"int\",\"MUNICIPIO\":\"str\"}\n",
    "table='MUNICIPIO'\n",
    "upload(local, table, dcol)"
   ]
  },
  {
   "cell_type": "code",
   "execution_count": null,
   "metadata": {},
   "outputs": [],
   "source": [
    "local=dirpath+'Cnaes.zip'\n",
    "dcol = {\"CNAE\": \"int\",\"NM_CNAE\":\"str\"}\n",
    "table='CNAE'\n",
    "upload(local, table, dcol)"
   ]
  },
  {
   "cell_type": "code",
   "execution_count": 66,
   "metadata": {},
   "outputs": [
    {
     "data": {
      "application/vnd.jupyter.widget-view+json": {
       "model_id": "6f9b925d7e5c4228a2d1b179a1134b19",
       "version_major": 2,
       "version_minor": 0
      },
      "text/plain": [
       "PAIS:   0%|          | 0/1 [00:00<?, ?it/s]"
      ]
     },
     "metadata": {},
     "output_type": "display_data"
    }
   ],
   "source": [
    "local=dirpath+'Paises.zip'\n",
    "dcol = {\"CD_PAIS\": \"int\",\"PAIS\":\"str\"}\n",
    "table='PAIS'\n",
    "upload(local, table, dcol)"
   ]
  },
  {
   "cell_type": "code",
   "execution_count": 70,
   "metadata": {},
   "outputs": [
    {
     "data": {
      "application/vnd.jupyter.widget-view+json": {
       "model_id": "1221082e3dc646bba00c3cda0f0e7c2c",
       "version_major": 2,
       "version_minor": 0
      },
      "text/plain": [
       "NATJU:   0%|          | 0/1 [00:00<?, ?it/s]"
      ]
     },
     "metadata": {},
     "output_type": "display_data"
    }
   ],
   "source": [
    "local=dirpath+'Naturezas.zip'\n",
    "dcol={\"CD_NAT_JURIDICA\": \"int\",\"NAT_JURIDICA\":\"str\"}\n",
    "table='NATJU'\n",
    "upload(local, table, dcol)"
   ]
  },
  {
   "cell_type": "code",
   "execution_count": 73,
   "metadata": {},
   "outputs": [
    {
     "data": {
      "application/vnd.jupyter.widget-view+json": {
       "model_id": "7d76996b6b564b2797f0ac9555eef0c9",
       "version_major": 2,
       "version_minor": 0
      },
      "text/plain": [
       "MOTIVOSIT:   0%|          | 0/1 [00:00<?, ?it/s]"
      ]
     },
     "metadata": {},
     "output_type": "display_data"
    }
   ],
   "source": [
    "local=dirpath+'Motivos.zip'\n",
    "dcols={\"CD_MOTIVO_SIT_CADASTRO\":\"int\",\"MOTIVO_SIT_CADASTRO\":\"str\"}\n",
    "table='MOTIVOSIT'\n",
    "upload(local, table, dcol)"
   ]
  },
  {
   "cell_type": "code",
   "execution_count": 76,
   "metadata": {},
   "outputs": [
    {
     "data": {
      "application/vnd.jupyter.widget-view+json": {
       "model_id": "42a118136b2c425997b1e954d057cfa8",
       "version_major": 2,
       "version_minor": 0
      },
      "text/plain": [
       "QUALS:   0%|          | 0/1 [00:00<?, ?it/s]"
      ]
     },
     "metadata": {},
     "output_type": "display_data"
    }
   ],
   "source": [
    "local=dirpath+'Qualificacoes.zip'\n",
    "dcol={\"CD_QUALS\":\"int\",\"NM_QUALS\":\"str\"}\n",
    "table='QUALS'\n",
    "upload(local, table, dcol)"
   ]
  },
  {
   "cell_type": "code",
   "execution_count": null,
   "metadata": {},
   "outputs": [],
   "source": [
    "lista= extract(dirlist,\"Simples\")\n",
    "#simples (cerca de 9min)\n",
    "local=dirpath+'*.SIMPLES.*'\n",
    "dcol={\"CNPJ_BASICO\":\"int\",\"OP_SIMPLES\":\"str\",\"DT_OP_SIMPLES\":\"int\",\"DT_EXC_SIMPLES\":\"int\",\"OP_MEI\":\"str\",\"DT_OP_MEI\":\"int\",\"DT_EXC_MEI\":\"int\"}\n",
    "table='SIMPLES'\n",
    "upload(local, table, dcol)\n",
    "remove(lista)"
   ]
  },
  {
   "cell_type": "code",
   "execution_count": 147,
   "metadata": {},
   "outputs": [
    {
     "data": {
      "application/vnd.jupyter.widget-view+json": {
       "model_id": "1262533c5bfd43e38acb5446dda6ac7c",
       "version_major": 2,
       "version_minor": 0
      },
      "text/plain": [
       "EMPRESA:   0%|          | 0/13 [00:00<?, ?it/s]"
      ]
     },
     "metadata": {},
     "output_type": "display_data"
    },
    {
     "name": "stdout",
     "output_type": "stream",
     "text": [
      "Wall time: 2min 19s\n"
     ]
    }
   ],
   "source": [
    "%%time\n",
    "lista= extract(dirlist,\"Empre\")\n",
    "#empresa\n",
    "dcol = {\"CNPJ_BASICO\":\"int\", \"RAZAO_SOCIAL\":\"str\", \"NAT_JURIDICA\":\"int\", \"QUAL_RESP\":\"int\", \"CAPITAL_SOCIAL\":\"float\",\n",
    "        \"PORTE_EMPRESA\":\"Int64\", \"ENTE_FED_RESP\":\"str\"}\n",
    "local=dirpath+'*.EMPRECSV'\n",
    "table='EMPRESA'\n",
    "upload(local, table, dcol)\n",
    "remove(lista)"
   ]
  },
  {
   "cell_type": "code",
   "execution_count": null,
   "metadata": {},
   "outputs": [],
   "source": [
    "lista= extract(dirlist,\"Socios\")\n",
    "#socios\n",
    "dcol={\"CNPJ_BASICO\":\"int\",\"ID_TIPO_SOCIO\":\"int\",\"NOME_OU_RAZAO_SOCIAL\":\"str\",\"CNPJ_CPF\":\"str\",\"QUALIF_SOCIO\":\"int\",\n",
    "         \"DT_ENTRADA\":\"int\",\"CD_PAIS\":\"Int64\",\"REPR_LEGAL\":\"str\",\"NM_REPR\":\"str\",\"CD_QUALIF_REPR\":\"int\",\"FAIXA_ETARIA\":\"int\"}\n",
    "local=dirpath+'*.SOCIOCSV'\n",
    "table='SOCIO'\n",
    "upload(local, table, dcol)\n",
    "remove(lista)"
   ]
  },
  {
   "cell_type": "code",
   "execution_count": null,
   "metadata": {},
   "outputs": [],
   "source": [
    "lista= extract(dirlist,\"Estabelecimentos\")\n",
    "#estabelecimentos\n",
    "dcol={\"CNPJ_BASICO\":\"int\", \"CNPJ_ORDEM\":\"int\", \"CNPJ_DV\":\"int\", \"CD_MATRIZ_FILIAL\":\"int\", \"NM_FANTASIA\":\"str\",\n",
    "         \"CD_SIT_CADASTRO\":\"int\", \"DT_SIT_CADASTRO\":\"int\",\"MOTIVO_SIT_CADASTRO\":\"int\",\"NM_CIDADE_EXT\":\"str\", \"CD_PAIS\":\"Int64\",\n",
    "         \"DT_INI\":\"int\", \"CNAE_PRINCIPAL\":\"int\",\"CNAE_SECUNDARIO\":\"str\",\n",
    "         \"TIP_LOGRADOURO\":\"str\",\"LOGRADOURO\":\"str\",\"NUMERO\":\"str\",\"COMPLEMENTO\":\"str\",\"BAIRRO\":\"str\",\"CEP\":\"Int64\",\"UF\":\"str\",\"MUNICIPIO\":\"int\",\n",
    "         \"DDD_1\":\"Int64\",\"TEL_1\":\"Int64\",\"DDD_2\":\"Int64\",\"TEL_2\":\"Int64\",\"DDD_FAX\":\"Int64\",\"FAX\":\"str\",\"EMAIL\":\"str\",\"SIT_ESP\":\"Int64\",\"DT_SIT_ESP\":\"Int64\"}\n",
    "local=dirpath+'*.ESTABELE'\n",
    "table='ESTABELE'\n",
    "upload(local, table, dcol)\n",
    "remove(lista)"
   ]
  },
  {
   "cell_type": "code",
   "execution_count": 149,
   "metadata": {},
   "outputs": [
    {
     "name": "stdin",
     "output_type": "stream",
     "text": [
      "Tem certeza? S/N S\n"
     ]
    }
   ],
   "source": [
    "remove([dirpath+f for f in filter(lambda x: x.find(\".zip\") > 0,dirlist)]) if input(\"Tem certeza? S/N\").upper() == \"S\" else \"Cancelado\""
   ]
  },
  {
   "cell_type": "code",
   "execution_count": null,
   "metadata": {},
   "outputs": [],
   "source": []
  },
  {
   "cell_type": "markdown",
   "metadata": {
    "jp-MarkdownHeadingCollapsed": true,
    "tags": []
   },
   "source": [
    "## Testes"
   ]
  },
  {
   "cell_type": "code",
   "execution_count": 18,
   "metadata": {},
   "outputs": [
    {
     "data": {
      "text/plain": [
       "'https://dadosabertos.rfb.gov.br/CNPJ/Estabelecimentos0.zip'"
      ]
     },
     "execution_count": 18,
     "metadata": {},
     "output_type": "execute_result"
    }
   ],
   "source": [
    "t=list(filter(lambda x: x.find(\"Estab\") > 0,urllist))[0]\n",
    "t"
   ]
  },
  {
   "cell_type": "code",
   "execution_count": 19,
   "metadata": {},
   "outputs": [
    {
     "data": {
      "application/vnd.jupyter.widget-view+json": {
       "model_id": "9ae286dac4cf406eb639e24c7134458a",
       "version_major": 2,
       "version_minor": 0
      },
      "text/plain": [
       "Estabelecimentos0.zip:   0%|          | 0.00/855M [00:00<?, ?iB/s]"
      ]
     },
     "metadata": {},
     "output_type": "display_data"
    },
    {
     "data": {
      "text/plain": [
       "['200', 'https://dadosabertos.rfb.gov.br/CNPJ/Estabelecimentos0.zip']"
      ]
     },
     "execution_count": 19,
     "metadata": {},
     "output_type": "execute_result"
    }
   ],
   "source": [
    "downloader(t)"
   ]
  },
  {
   "cell_type": "code",
   "execution_count": 20,
   "metadata": {},
   "outputs": [],
   "source": [
    "dirlist= os.listdir(dirpath)"
   ]
  },
  {
   "cell_type": "code",
   "execution_count": 21,
   "metadata": {},
   "outputs": [],
   "source": [
    "lista= extract(dirlist,\"Estabelecimentos\")\n",
    "local=dirpath+'*.ESTABELE'"
   ]
  },
  {
   "cell_type": "code",
   "execution_count": 22,
   "metadata": {},
   "outputs": [],
   "source": [
    "colunas=[\"CNPJ_BASICO\", \"CNPJ_ORDEM\", \"CNPJ_DV\", \"CD_MATRIZ_FILIAL\", \"NM_FANTASIA\",\n",
    "         \"CD_SIT_CADASTRO\", \"DT_SIT_CADASTRO\",\"MOTIVO_SIT_CADASTRO\",\"NM_CIDADE_EXT\", \"CD_PAIS\",\n",
    "         \"DT_INI\", \"CNAE_PRINCIPAL\",\"CNAE_SECUNDARIO\",\n",
    "         \"TIP_LOGRADOURO\",\"LOGRADOURO\",\"NUMERO\",\"COMPLEMENTO\",\"BAIRRO\",\"CEP\",\"UF\",\"MUNICIPIO\",\n",
    "         \"DDD_1\",\"TEL_1\",\"DDD_2\",\"TEL_2\",\"DDD_FAX\",\"FAX\",\"EMAIL\",\"SIT_ESP\",\"DT_SIT_ESP\"]"
   ]
  },
  {
   "cell_type": "code",
   "execution_count": 23,
   "metadata": {},
   "outputs": [
    {
     "data": {
      "text/html": [
       "<div>\n",
       "<style scoped>\n",
       "    .dataframe tbody tr th:only-of-type {\n",
       "        vertical-align: middle;\n",
       "    }\n",
       "\n",
       "    .dataframe tbody tr th {\n",
       "        vertical-align: top;\n",
       "    }\n",
       "\n",
       "    .dataframe thead th {\n",
       "        text-align: right;\n",
       "    }\n",
       "</style>\n",
       "<table border=\"1\" class=\"dataframe\">\n",
       "  <thead>\n",
       "    <tr style=\"text-align: right;\">\n",
       "      <th></th>\n",
       "      <th>CNPJ_BASICO</th>\n",
       "      <th>CNPJ_ORDEM</th>\n",
       "      <th>CNPJ_DV</th>\n",
       "      <th>CD_MATRIZ_FILIAL</th>\n",
       "      <th>NM_FANTASIA</th>\n",
       "      <th>CD_SIT_CADASTRO</th>\n",
       "      <th>DT_SIT_CADASTRO</th>\n",
       "      <th>MOTIVO_SIT_CADASTRO</th>\n",
       "      <th>NM_CIDADE_EXT</th>\n",
       "      <th>CD_PAIS</th>\n",
       "      <th>...</th>\n",
       "      <th>MUNICIPIO</th>\n",
       "      <th>DDD_1</th>\n",
       "      <th>TEL_1</th>\n",
       "      <th>DDD_2</th>\n",
       "      <th>TEL_2</th>\n",
       "      <th>DDD_FAX</th>\n",
       "      <th>FAX</th>\n",
       "      <th>EMAIL</th>\n",
       "      <th>SIT_ESP</th>\n",
       "      <th>DT_SIT_ESP</th>\n",
       "    </tr>\n",
       "  </thead>\n",
       "  <tbody>\n",
       "    <tr>\n",
       "      <th>0</th>\n",
       "      <td>37391175</td>\n",
       "      <td>0001</td>\n",
       "      <td>87</td>\n",
       "      <td>1</td>\n",
       "      <td>JC PROMOCAO</td>\n",
       "      <td>08</td>\n",
       "      <td>20200720</td>\n",
       "      <td>01</td>\n",
       "      <td>NaN</td>\n",
       "      <td>NaN</td>\n",
       "      <td>...</td>\n",
       "      <td>0427</td>\n",
       "      <td>91</td>\n",
       "      <td>83578917</td>\n",
       "      <td>NaN</td>\n",
       "      <td>NaN</td>\n",
       "      <td>NaN</td>\n",
       "      <td>NaN</td>\n",
       "      <td>RODIMILDONJUNIOR@GMAIL.COM</td>\n",
       "      <td>NaN</td>\n",
       "      <td>NaN</td>\n",
       "    </tr>\n",
       "    <tr>\n",
       "      <th>1</th>\n",
       "      <td>37391186</td>\n",
       "      <td>0001</td>\n",
       "      <td>67</td>\n",
       "      <td>1</td>\n",
       "      <td>MANIA CAPOEIRA</td>\n",
       "      <td>02</td>\n",
       "      <td>20200611</td>\n",
       "      <td>00</td>\n",
       "      <td>NaN</td>\n",
       "      <td>NaN</td>\n",
       "      <td>...</td>\n",
       "      <td>7107</td>\n",
       "      <td>11</td>\n",
       "      <td>46918281</td>\n",
       "      <td>NaN</td>\n",
       "      <td>NaN</td>\n",
       "      <td>NaN</td>\n",
       "      <td>NaN</td>\n",
       "      <td>MANIACAPOEIRA@GMAIL.COM</td>\n",
       "      <td>NaN</td>\n",
       "      <td>NaN</td>\n",
       "    </tr>\n",
       "    <tr>\n",
       "      <th>2</th>\n",
       "      <td>37391199</td>\n",
       "      <td>0001</td>\n",
       "      <td>36</td>\n",
       "      <td>1</td>\n",
       "      <td>NaN</td>\n",
       "      <td>04</td>\n",
       "      <td>20221125</td>\n",
       "      <td>63</td>\n",
       "      <td>NaN</td>\n",
       "      <td>NaN</td>\n",
       "      <td>...</td>\n",
       "      <td>5847</td>\n",
       "      <td>22</td>\n",
       "      <td>92856729</td>\n",
       "      <td>NaN</td>\n",
       "      <td>NaN</td>\n",
       "      <td>NaN</td>\n",
       "      <td>NaN</td>\n",
       "      <td>PRISCILLAPBIO@GMAIL.COM</td>\n",
       "      <td>NaN</td>\n",
       "      <td>NaN</td>\n",
       "    </tr>\n",
       "    <tr>\n",
       "      <th>3</th>\n",
       "      <td>37391210</td>\n",
       "      <td>0001</td>\n",
       "      <td>68</td>\n",
       "      <td>1</td>\n",
       "      <td>L.F SIQUEIRA</td>\n",
       "      <td>02</td>\n",
       "      <td>20200611</td>\n",
       "      <td>00</td>\n",
       "      <td>NaN</td>\n",
       "      <td>NaN</td>\n",
       "      <td>...</td>\n",
       "      <td>9373</td>\n",
       "      <td>62</td>\n",
       "      <td>32460698</td>\n",
       "      <td>NaN</td>\n",
       "      <td>NaN</td>\n",
       "      <td>NaN</td>\n",
       "      <td>NaN</td>\n",
       "      <td>LUDSIQUEIRA20@GMAIL.COM</td>\n",
       "      <td>NaN</td>\n",
       "      <td>NaN</td>\n",
       "    </tr>\n",
       "    <tr>\n",
       "      <th>4</th>\n",
       "      <td>37391218</td>\n",
       "      <td>0001</td>\n",
       "      <td>24</td>\n",
       "      <td>1</td>\n",
       "      <td>EGUA DO CALOR DEPOSITO DE BEBIDAS</td>\n",
       "      <td>02</td>\n",
       "      <td>20200612</td>\n",
       "      <td>00</td>\n",
       "      <td>NaN</td>\n",
       "      <td>NaN</td>\n",
       "      <td>...</td>\n",
       "      <td>0427</td>\n",
       "      <td>91</td>\n",
       "      <td>32299595</td>\n",
       "      <td>NaN</td>\n",
       "      <td>NaN</td>\n",
       "      <td>NaN</td>\n",
       "      <td>NaN</td>\n",
       "      <td>FABRICIOMTE2928@GMAIL.COM</td>\n",
       "      <td>NaN</td>\n",
       "      <td>NaN</td>\n",
       "    </tr>\n",
       "  </tbody>\n",
       "</table>\n",
       "<p>5 rows × 30 columns</p>\n",
       "</div>"
      ],
      "text/plain": [
       "  CNPJ_BASICO CNPJ_ORDEM CNPJ_DV CD_MATRIZ_FILIAL  \\\n",
       "0    37391175       0001      87                1   \n",
       "1    37391186       0001      67                1   \n",
       "2    37391199       0001      36                1   \n",
       "3    37391210       0001      68                1   \n",
       "4    37391218       0001      24                1   \n",
       "\n",
       "                         NM_FANTASIA CD_SIT_CADASTRO DT_SIT_CADASTRO  \\\n",
       "0                        JC PROMOCAO              08        20200720   \n",
       "1                     MANIA CAPOEIRA              02        20200611   \n",
       "2                                NaN              04        20221125   \n",
       "3                       L.F SIQUEIRA              02        20200611   \n",
       "4  EGUA DO CALOR DEPOSITO DE BEBIDAS              02        20200612   \n",
       "\n",
       "  MOTIVO_SIT_CADASTRO NM_CIDADE_EXT CD_PAIS  ... MUNICIPIO DDD_1     TEL_1  \\\n",
       "0                  01           NaN     NaN  ...      0427    91  83578917   \n",
       "1                  00           NaN     NaN  ...      7107    11  46918281   \n",
       "2                  63           NaN     NaN  ...      5847    22  92856729   \n",
       "3                  00           NaN     NaN  ...      9373    62  32460698   \n",
       "4                  00           NaN     NaN  ...      0427    91  32299595   \n",
       "\n",
       "  DDD_2 TEL_2 DDD_FAX  FAX                       EMAIL SIT_ESP DT_SIT_ESP  \n",
       "0   NaN   NaN     NaN  NaN  RODIMILDONJUNIOR@GMAIL.COM     NaN        NaN  \n",
       "1   NaN   NaN     NaN  NaN     MANIACAPOEIRA@GMAIL.COM     NaN        NaN  \n",
       "2   NaN   NaN     NaN  NaN     PRISCILLAPBIO@GMAIL.COM     NaN        NaN  \n",
       "3   NaN   NaN     NaN  NaN     LUDSIQUEIRA20@GMAIL.COM     NaN        NaN  \n",
       "4   NaN   NaN     NaN  NaN   FABRICIOMTE2928@GMAIL.COM     NaN        NaN  \n",
       "\n",
       "[5 rows x 30 columns]"
      ]
     },
     "execution_count": 23,
     "metadata": {},
     "output_type": "execute_result"
    }
   ],
   "source": [
    "df = dd.read_csv(local, header=None, encoding='latin1', sep=\";\", decimal=\",\", names=colunas, blocksize='default', dtype=str)\n",
    "df.head()"
   ]
  },
  {
   "cell_type": "code",
   "execution_count": 44,
   "metadata": {},
   "outputs": [
    {
     "data": {
      "text/plain": [
       "'CEP'"
      ]
     },
     "execution_count": 44,
     "metadata": {},
     "output_type": "execute_result"
    }
   ],
   "source": [
    "df.columns[18]"
   ]
  },
  {
   "cell_type": "code",
   "execution_count": 31,
   "metadata": {},
   "outputs": [
    {
     "data": {
      "text/html": [
       "<div>\n",
       "<style scoped>\n",
       "    .dataframe tbody tr th:only-of-type {\n",
       "        vertical-align: middle;\n",
       "    }\n",
       "\n",
       "    .dataframe tbody tr th {\n",
       "        vertical-align: top;\n",
       "    }\n",
       "\n",
       "    .dataframe thead th {\n",
       "        text-align: right;\n",
       "    }\n",
       "</style>\n",
       "<table border=\"1\" class=\"dataframe\">\n",
       "  <thead>\n",
       "    <tr style=\"text-align: right;\">\n",
       "      <th></th>\n",
       "      <th>BAIRRO</th>\n",
       "      <th>CEP</th>\n",
       "      <th>UF</th>\n",
       "      <th>MUNICIPIO</th>\n",
       "      <th>DDD_1</th>\n",
       "      <th>TEL_1</th>\n",
       "      <th>DDD_2</th>\n",
       "      <th>TEL_2</th>\n",
       "      <th>DDD_FAX</th>\n",
       "      <th>FAX</th>\n",
       "      <th>EMAIL</th>\n",
       "      <th>SIT_ESP</th>\n",
       "      <th>DT_SIT_ESP</th>\n",
       "    </tr>\n",
       "  </thead>\n",
       "  <tbody>\n",
       "    <tr>\n",
       "      <th>0</th>\n",
       "      <td>PARQUE VERDE</td>\n",
       "      <td>66635210</td>\n",
       "      <td>PA</td>\n",
       "      <td>0427</td>\n",
       "      <td>91</td>\n",
       "      <td>83578917</td>\n",
       "      <td>NaN</td>\n",
       "      <td>NaN</td>\n",
       "      <td>NaN</td>\n",
       "      <td>NaN</td>\n",
       "      <td>RODIMILDONJUNIOR@GMAIL.COM</td>\n",
       "      <td>NaN</td>\n",
       "      <td>NaN</td>\n",
       "    </tr>\n",
       "    <tr>\n",
       "      <th>1</th>\n",
       "      <td>JARDIM GUAPIRA</td>\n",
       "      <td>02281265</td>\n",
       "      <td>SP</td>\n",
       "      <td>7107</td>\n",
       "      <td>11</td>\n",
       "      <td>46918281</td>\n",
       "      <td>NaN</td>\n",
       "      <td>NaN</td>\n",
       "      <td>NaN</td>\n",
       "      <td>NaN</td>\n",
       "      <td>MANIACAPOEIRA@GMAIL.COM</td>\n",
       "      <td>NaN</td>\n",
       "      <td>NaN</td>\n",
       "    </tr>\n",
       "    <tr>\n",
       "      <th>2</th>\n",
       "      <td>PARQUE AEROPORTO</td>\n",
       "      <td>27963522</td>\n",
       "      <td>RJ</td>\n",
       "      <td>5847</td>\n",
       "      <td>22</td>\n",
       "      <td>92856729</td>\n",
       "      <td>NaN</td>\n",
       "      <td>NaN</td>\n",
       "      <td>NaN</td>\n",
       "      <td>NaN</td>\n",
       "      <td>PRISCILLAPBIO@GMAIL.COM</td>\n",
       "      <td>NaN</td>\n",
       "      <td>NaN</td>\n",
       "    </tr>\n",
       "    <tr>\n",
       "      <th>3</th>\n",
       "      <td>JARDIM ATLANTICO</td>\n",
       "      <td>74343570</td>\n",
       "      <td>GO</td>\n",
       "      <td>9373</td>\n",
       "      <td>62</td>\n",
       "      <td>32460698</td>\n",
       "      <td>NaN</td>\n",
       "      <td>NaN</td>\n",
       "      <td>NaN</td>\n",
       "      <td>NaN</td>\n",
       "      <td>LUDSIQUEIRA20@GMAIL.COM</td>\n",
       "      <td>NaN</td>\n",
       "      <td>NaN</td>\n",
       "    </tr>\n",
       "    <tr>\n",
       "      <th>4</th>\n",
       "      <td>CONDOR</td>\n",
       "      <td>66065158</td>\n",
       "      <td>PA</td>\n",
       "      <td>0427</td>\n",
       "      <td>91</td>\n",
       "      <td>32299595</td>\n",
       "      <td>NaN</td>\n",
       "      <td>NaN</td>\n",
       "      <td>NaN</td>\n",
       "      <td>NaN</td>\n",
       "      <td>FABRICIOMTE2928@GMAIL.COM</td>\n",
       "      <td>NaN</td>\n",
       "      <td>NaN</td>\n",
       "    </tr>\n",
       "  </tbody>\n",
       "</table>\n",
       "</div>"
      ],
      "text/plain": [
       "             BAIRRO       CEP  UF MUNICIPIO DDD_1     TEL_1 DDD_2 TEL_2  \\\n",
       "0      PARQUE VERDE  66635210  PA      0427    91  83578917   NaN   NaN   \n",
       "1    JARDIM GUAPIRA  02281265  SP      7107    11  46918281   NaN   NaN   \n",
       "2  PARQUE AEROPORTO  27963522  RJ      5847    22  92856729   NaN   NaN   \n",
       "3  JARDIM ATLANTICO  74343570  GO      9373    62  32460698   NaN   NaN   \n",
       "4            CONDOR  66065158  PA      0427    91  32299595   NaN   NaN   \n",
       "\n",
       "  DDD_FAX  FAX                       EMAIL SIT_ESP DT_SIT_ESP  \n",
       "0     NaN  NaN  RODIMILDONJUNIOR@GMAIL.COM     NaN        NaN  \n",
       "1     NaN  NaN     MANIACAPOEIRA@GMAIL.COM     NaN        NaN  \n",
       "2     NaN  NaN     PRISCILLAPBIO@GMAIL.COM     NaN        NaN  \n",
       "3     NaN  NaN     LUDSIQUEIRA20@GMAIL.COM     NaN        NaN  \n",
       "4     NaN  NaN   FABRICIOMTE2928@GMAIL.COM     NaN        NaN  "
      ]
     },
     "execution_count": 31,
     "metadata": {},
     "output_type": "execute_result"
    }
   ],
   "source": [
    "df[df.columns[17:]].head()"
   ]
  },
  {
   "cell_type": "code",
   "execution_count": 53,
   "metadata": {},
   "outputs": [],
   "source": [
    "# dcol = {\"CNPJ_BASICO\":\"int\", \"RAZAO_SOCIAL\":\"str\", \"NAT_JURIDICA\":\"int\", \"QUAL_RESP\":\"int\", \"CAPITAL_SOCIAL\":\"float\",\n",
    "#         \"PORTE_EMPRESA\":\"Int64\", \"ENTE_FED_RESP\":\"str\"}\n",
    "\n",
    "dcol={\"CNPJ_BASICO\":\"int\", \"CNPJ_ORDEM\":\"int\", \"CNPJ_DV\":\"int\", \"CD_MATRIZ_FILIAL\":\"int\", \"NM_FANTASIA\":\"str\",\n",
    "         \"CD_SIT_CADASTRO\":\"int\", \"DT_SIT_CADASTRO\":\"int\",\"MOTIVO_SIT_CADASTRO\":\"int\",\"NM_CIDADE_EXT\":\"str\", \"CD_PAIS\":\"Int64\",\n",
    "         \"DT_INI\":\"int\", \"CNAE_PRINCIPAL\":\"int\",\"CNAE_SECUNDARIO\":\"str\",\n",
    "         \"TIP_LOGRADOURO\":\"str\",\"LOGRADOURO\":\"str\",\"NUMERO\":\"str\",\"COMPLEMENTO\":\"str\",\"BAIRRO\":\"str\",\"CEP\":\"Int64\",\"UF\":\"str\",\"MUNICIPIO\":\"int\",\n",
    "         \"DDD_1\":\"Int64\",\"TEL_1\":\"Int64\",\"DDD_2\":\"Int64\",\"TEL_2\":\"Int64\",\"DDD_FAX\":\"Int64\",\"FAX\":\"str\",\"EMAIL\":\"str\",\"SIT_ESP\":\"Int64\",\"DT_SIT_ESP\":\"Int64\"}"
   ]
  },
  {
   "cell_type": "code",
   "execution_count": 56,
   "metadata": {},
   "outputs": [
    {
     "data": {
      "text/html": [
       "<div>\n",
       "<style scoped>\n",
       "    .dataframe tbody tr th:only-of-type {\n",
       "        vertical-align: middle;\n",
       "    }\n",
       "\n",
       "    .dataframe tbody tr th {\n",
       "        vertical-align: top;\n",
       "    }\n",
       "\n",
       "    .dataframe thead th {\n",
       "        text-align: right;\n",
       "    }\n",
       "</style>\n",
       "<table border=\"1\" class=\"dataframe\">\n",
       "  <thead>\n",
       "    <tr style=\"text-align: right;\">\n",
       "      <th></th>\n",
       "      <th>CNPJ_BASICO</th>\n",
       "      <th>CNPJ_ORDEM</th>\n",
       "      <th>CNPJ_DV</th>\n",
       "      <th>CD_MATRIZ_FILIAL</th>\n",
       "      <th>NM_FANTASIA</th>\n",
       "      <th>CD_SIT_CADASTRO</th>\n",
       "      <th>DT_SIT_CADASTRO</th>\n",
       "      <th>MOTIVO_SIT_CADASTRO</th>\n",
       "      <th>NM_CIDADE_EXT</th>\n",
       "      <th>CD_PAIS</th>\n",
       "      <th>...</th>\n",
       "      <th>MUNICIPIO</th>\n",
       "      <th>DDD_1</th>\n",
       "      <th>TEL_1</th>\n",
       "      <th>DDD_2</th>\n",
       "      <th>TEL_2</th>\n",
       "      <th>DDD_FAX</th>\n",
       "      <th>FAX</th>\n",
       "      <th>EMAIL</th>\n",
       "      <th>SIT_ESP</th>\n",
       "      <th>DT_SIT_ESP</th>\n",
       "    </tr>\n",
       "  </thead>\n",
       "  <tbody>\n",
       "    <tr>\n",
       "      <th>0</th>\n",
       "      <td>37391175</td>\n",
       "      <td>1</td>\n",
       "      <td>87</td>\n",
       "      <td>1</td>\n",
       "      <td>JC PROMOCAO</td>\n",
       "      <td>8</td>\n",
       "      <td>20200720</td>\n",
       "      <td>1</td>\n",
       "      <td>NaN</td>\n",
       "      <td>&lt;NA&gt;</td>\n",
       "      <td>...</td>\n",
       "      <td>427</td>\n",
       "      <td>91</td>\n",
       "      <td>83578917</td>\n",
       "      <td>&lt;NA&gt;</td>\n",
       "      <td>&lt;NA&gt;</td>\n",
       "      <td>&lt;NA&gt;</td>\n",
       "      <td>NaN</td>\n",
       "      <td>RODIMILDONJUNIOR@GMAIL.COM</td>\n",
       "      <td>&lt;NA&gt;</td>\n",
       "      <td>&lt;NA&gt;</td>\n",
       "    </tr>\n",
       "    <tr>\n",
       "      <th>1</th>\n",
       "      <td>37391186</td>\n",
       "      <td>1</td>\n",
       "      <td>67</td>\n",
       "      <td>1</td>\n",
       "      <td>MANIA CAPOEIRA</td>\n",
       "      <td>2</td>\n",
       "      <td>20200611</td>\n",
       "      <td>0</td>\n",
       "      <td>NaN</td>\n",
       "      <td>&lt;NA&gt;</td>\n",
       "      <td>...</td>\n",
       "      <td>7107</td>\n",
       "      <td>11</td>\n",
       "      <td>46918281</td>\n",
       "      <td>&lt;NA&gt;</td>\n",
       "      <td>&lt;NA&gt;</td>\n",
       "      <td>&lt;NA&gt;</td>\n",
       "      <td>NaN</td>\n",
       "      <td>MANIACAPOEIRA@GMAIL.COM</td>\n",
       "      <td>&lt;NA&gt;</td>\n",
       "      <td>&lt;NA&gt;</td>\n",
       "    </tr>\n",
       "    <tr>\n",
       "      <th>2</th>\n",
       "      <td>37391199</td>\n",
       "      <td>1</td>\n",
       "      <td>36</td>\n",
       "      <td>1</td>\n",
       "      <td>NaN</td>\n",
       "      <td>4</td>\n",
       "      <td>20221125</td>\n",
       "      <td>63</td>\n",
       "      <td>NaN</td>\n",
       "      <td>&lt;NA&gt;</td>\n",
       "      <td>...</td>\n",
       "      <td>5847</td>\n",
       "      <td>22</td>\n",
       "      <td>92856729</td>\n",
       "      <td>&lt;NA&gt;</td>\n",
       "      <td>&lt;NA&gt;</td>\n",
       "      <td>&lt;NA&gt;</td>\n",
       "      <td>NaN</td>\n",
       "      <td>PRISCILLAPBIO@GMAIL.COM</td>\n",
       "      <td>&lt;NA&gt;</td>\n",
       "      <td>&lt;NA&gt;</td>\n",
       "    </tr>\n",
       "    <tr>\n",
       "      <th>3</th>\n",
       "      <td>37391210</td>\n",
       "      <td>1</td>\n",
       "      <td>68</td>\n",
       "      <td>1</td>\n",
       "      <td>L.F SIQUEIRA</td>\n",
       "      <td>2</td>\n",
       "      <td>20200611</td>\n",
       "      <td>0</td>\n",
       "      <td>NaN</td>\n",
       "      <td>&lt;NA&gt;</td>\n",
       "      <td>...</td>\n",
       "      <td>9373</td>\n",
       "      <td>62</td>\n",
       "      <td>32460698</td>\n",
       "      <td>&lt;NA&gt;</td>\n",
       "      <td>&lt;NA&gt;</td>\n",
       "      <td>&lt;NA&gt;</td>\n",
       "      <td>NaN</td>\n",
       "      <td>LUDSIQUEIRA20@GMAIL.COM</td>\n",
       "      <td>&lt;NA&gt;</td>\n",
       "      <td>&lt;NA&gt;</td>\n",
       "    </tr>\n",
       "    <tr>\n",
       "      <th>4</th>\n",
       "      <td>37391218</td>\n",
       "      <td>1</td>\n",
       "      <td>24</td>\n",
       "      <td>1</td>\n",
       "      <td>EGUA DO CALOR DEPOSITO DE BEBIDAS</td>\n",
       "      <td>2</td>\n",
       "      <td>20200612</td>\n",
       "      <td>0</td>\n",
       "      <td>NaN</td>\n",
       "      <td>&lt;NA&gt;</td>\n",
       "      <td>...</td>\n",
       "      <td>427</td>\n",
       "      <td>91</td>\n",
       "      <td>32299595</td>\n",
       "      <td>&lt;NA&gt;</td>\n",
       "      <td>&lt;NA&gt;</td>\n",
       "      <td>&lt;NA&gt;</td>\n",
       "      <td>NaN</td>\n",
       "      <td>FABRICIOMTE2928@GMAIL.COM</td>\n",
       "      <td>&lt;NA&gt;</td>\n",
       "      <td>&lt;NA&gt;</td>\n",
       "    </tr>\n",
       "  </tbody>\n",
       "</table>\n",
       "<p>5 rows × 30 columns</p>\n",
       "</div>"
      ],
      "text/plain": [
       "   CNPJ_BASICO  CNPJ_ORDEM  CNPJ_DV  CD_MATRIZ_FILIAL  \\\n",
       "0     37391175           1       87                 1   \n",
       "1     37391186           1       67                 1   \n",
       "2     37391199           1       36                 1   \n",
       "3     37391210           1       68                 1   \n",
       "4     37391218           1       24                 1   \n",
       "\n",
       "                         NM_FANTASIA  CD_SIT_CADASTRO  DT_SIT_CADASTRO  \\\n",
       "0                        JC PROMOCAO                8         20200720   \n",
       "1                     MANIA CAPOEIRA                2         20200611   \n",
       "2                                NaN                4         20221125   \n",
       "3                       L.F SIQUEIRA                2         20200611   \n",
       "4  EGUA DO CALOR DEPOSITO DE BEBIDAS                2         20200612   \n",
       "\n",
       "   MOTIVO_SIT_CADASTRO NM_CIDADE_EXT  CD_PAIS  ...  MUNICIPIO  DDD_1  \\\n",
       "0                    1           NaN     <NA>  ...        427     91   \n",
       "1                    0           NaN     <NA>  ...       7107     11   \n",
       "2                   63           NaN     <NA>  ...       5847     22   \n",
       "3                    0           NaN     <NA>  ...       9373     62   \n",
       "4                    0           NaN     <NA>  ...        427     91   \n",
       "\n",
       "      TEL_1 DDD_2 TEL_2 DDD_FAX  FAX                       EMAIL  SIT_ESP  \\\n",
       "0  83578917  <NA>  <NA>    <NA>  NaN  RODIMILDONJUNIOR@GMAIL.COM     <NA>   \n",
       "1  46918281  <NA>  <NA>    <NA>  NaN     MANIACAPOEIRA@GMAIL.COM     <NA>   \n",
       "2  92856729  <NA>  <NA>    <NA>  NaN     PRISCILLAPBIO@GMAIL.COM     <NA>   \n",
       "3  32460698  <NA>  <NA>    <NA>  NaN     LUDSIQUEIRA20@GMAIL.COM     <NA>   \n",
       "4  32299595  <NA>  <NA>    <NA>  NaN   FABRICIOMTE2928@GMAIL.COM     <NA>   \n",
       "\n",
       "  DT_SIT_ESP  \n",
       "0       <NA>  \n",
       "1       <NA>  \n",
       "2       <NA>  \n",
       "3       <NA>  \n",
       "4       <NA>  \n",
       "\n",
       "[5 rows x 30 columns]"
      ]
     },
     "execution_count": 56,
     "metadata": {},
     "output_type": "execute_result"
    }
   ],
   "source": [
    "df = dd.read_csv(local, header=None, encoding='latin1', sep=\";\", decimal=\",\", names=colunas, blocksize='default', dtype=dcol)\n",
    "df.head()"
   ]
  },
  {
   "cell_type": "code",
   "execution_count": 57,
   "metadata": {},
   "outputs": [],
   "source": [
    "remove(lista)"
   ]
  },
  {
   "cell_type": "code",
   "execution_count": null,
   "metadata": {},
   "outputs": [],
   "source": []
  }
 ],
 "metadata": {
  "kernelspec": {
   "display_name": "Python 3 (ipykernel)",
   "language": "python",
   "name": "python3"
  },
  "language_info": {
   "codemirror_mode": {
    "name": "ipython",
    "version": 3
   },
   "file_extension": ".py",
   "mimetype": "text/x-python",
   "name": "python",
   "nbconvert_exporter": "python",
   "pygments_lexer": "ipython3",
   "version": "3.8.10"
  },
  "vscode": {
   "interpreter": {
    "hash": "a8df82f0ff7dbbdeab208b32e1dbd0468ab7b7612b95c95cc2c310a142438cff"
   }
  }
 },
 "nbformat": 4,
 "nbformat_minor": 4
}
